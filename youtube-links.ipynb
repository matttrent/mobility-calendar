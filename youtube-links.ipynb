{
 "metadata": {
  "name": ""
 },
 "nbformat": 3,
 "nbformat_minor": 0,
 "worksheets": [
  {
   "cells": [
    {
     "cell_type": "code",
     "collapsed": false,
     "input": [
      "import requests\n",
      "from BeautifulSoup import BeautifulSoup"
     ],
     "language": "python",
     "metadata": {},
     "outputs": [],
     "prompt_number": 2
    },
    {
     "cell_type": "code",
     "collapsed": false,
     "input": [
      "URL = \"https://www.youtube.com/playlist?list=PLF7BEBB6AA253819E\""
     ],
     "language": "python",
     "metadata": {},
     "outputs": [],
     "prompt_number": 3
    },
    {
     "cell_type": "code",
     "collapsed": false,
     "input": [
      "req = requests.get( URL )\n",
      "req.status_code"
     ],
     "language": "python",
     "metadata": {},
     "outputs": [
      {
       "metadata": {},
       "output_type": "pyout",
       "prompt_number": 4,
       "text": [
        "200"
       ]
      }
     ],
     "prompt_number": 4
    },
    {
     "cell_type": "code",
     "collapsed": false,
     "input": [
      "soup = BeautifulSoup( req.text )"
     ],
     "language": "python",
     "metadata": {},
     "outputs": [],
     "prompt_number": 5
    },
    {
     "cell_type": "code",
     "collapsed": false,
     "input": [
      "videos = soup.findAll( 'td', {'class' : 'pl-video-title' } )"
     ],
     "language": "python",
     "metadata": {},
     "outputs": [],
     "prompt_number": 6
    },
    {
     "cell_type": "code",
     "collapsed": false,
     "input": [
      "video = videos[0]"
     ],
     "language": "python",
     "metadata": {},
     "outputs": [],
     "prompt_number": 7
    },
    {
     "cell_type": "code",
     "collapsed": false,
     "input": [
      "video.a['href']"
     ],
     "language": "python",
     "metadata": {},
     "outputs": [
      {
       "metadata": {},
       "output_type": "pyout",
       "prompt_number": 8,
       "text": [
        "u'/watch?v=7XwKnk16Zbs&list=PLF7BEBB6AA253819E&index=2'"
       ]
      }
     ],
     "prompt_number": 8
    },
    {
     "cell_type": "code",
     "collapsed": false,
     "input": [
      "links = [ video.a['href'] for video in videos ]"
     ],
     "language": "python",
     "metadata": {},
     "outputs": [],
     "prompt_number": 9
    },
    {
     "cell_type": "code",
     "collapsed": false,
     "input": [
      "len( links )"
     ],
     "language": "python",
     "metadata": {},
     "outputs": [
      {
       "metadata": {},
       "output_type": "pyout",
       "prompt_number": 10,
       "text": [
        "80"
       ]
      }
     ],
     "prompt_number": 10
    },
    {
     "cell_type": "code",
     "collapsed": false,
     "input": [
      "[ link.split('=')[1].split('&')[0] for link in links[:31] ]"
     ],
     "language": "python",
     "metadata": {},
     "outputs": [
      {
       "metadata": {},
       "output_type": "pyout",
       "prompt_number": 13,
       "text": [
        "[u'7XwKnk16Zbs',\n",
        " u'-ZX1QMTdAC4',\n",
        " u'e4cpBBDVGGU',\n",
        " u'yzHcIzIVRKw',\n",
        " u'1ARPjekZPJw',\n",
        " u'TCoywIXVhgo',\n",
        " u'nntuDmKS6SM',\n",
        " u'3-th5SrJ1rQ',\n",
        " u'RSE95NF4eVc',\n",
        " u'Ol0r8lUqB-Q',\n",
        " u'Rcauv7ePD_0',\n",
        " u'UY31J5BeKrg',\n",
        " u'8bc6Jq6b0Ig',\n",
        " u'qmyEgk0zNPc',\n",
        " u'tJoTVVZadUs',\n",
        " u'WAYqWzQAjHo',\n",
        " u'2iiKibqIQ20',\n",
        " u'hzozw2Aso3M',\n",
        " u'vYTHwlV78y4',\n",
        " u'5nlarY4AdQw',\n",
        " u'UpLUCrq-JdM',\n",
        " u'yt8JteQMAag',\n",
        " u'fkPLnVU1KOo',\n",
        " u'pN-Vvk7QMNk',\n",
        " u'XEXFcPClb9Q',\n",
        " u'H4nWPeyDfNM',\n",
        " u'gCOXvGfWd8M',\n",
        " u'14Y-MU4o0ws',\n",
        " u'SaeAvGh6gkg',\n",
        " u'zSB9whpaSVI',\n",
        " u'TZtQ1hP0zFY']"
       ]
      }
     ],
     "prompt_number": 13
    },
    {
     "cell_type": "code",
     "collapsed": false,
     "input": [
      "import datetime\n",
      "day = datetime.datetime.today().day\n",
      "print day"
     ],
     "language": "python",
     "metadata": {},
     "outputs": [
      {
       "output_type": "stream",
       "stream": "stdout",
       "text": [
        "16\n"
       ]
      }
     ],
     "prompt_number": 15
    },
    {
     "cell_type": "code",
     "collapsed": false,
     "input": [],
     "language": "python",
     "metadata": {},
     "outputs": []
    }
   ],
   "metadata": {}
  }
 ]
}